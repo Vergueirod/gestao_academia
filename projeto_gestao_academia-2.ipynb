{
 "cells": [
  {
   "cell_type": "code",
   "execution_count": 1,
   "id": "01aaa953-a8d1-4ed7-bc9e-4b1b43c884ea",
   "metadata": {},
   "outputs": [
    {
     "data": {
      "text/plain": [
       "[]"
      ]
     },
     "execution_count": 1,
     "metadata": {},
     "output_type": "execute_result"
    },
    {
     "data": {
      "image/png": "[encoded data removed]",
      "text/plain": [
       "<Figure size 360x360 with 1 Axes>"
      ]
     },
     "metadata": {
      "needs_background": "light"
     },
     "output_type": "display_data"
    }
   ],
   "source": [
    "import random \n",
    "\n",
    "class academia:\n",
    "    def __init__(self):\n",
    "        self.halteres = [i for i in range(10, 36) if i % 2 == 0]\n",
    "        self.porta_halteres = {}\n",
    "        self.reiniciar_dia() \n",
    "    \n",
    "    def reiniciar_dia(self):\n",
    "        self.porta_halteres = {i : i  for i in self.halteres}\n",
    "        \n",
    "    def lista_halteres(self):\n",
    "        return [i for i in self.porta_halteres.values() if i != 0]\n",
    "    \n",
    "    def lista_espacos(self):\n",
    "        return [i for i, j in self.porta_halteres.items() if j == 0]\n",
    "    \n",
    "    def pegar_halteres(self, peso):\n",
    "        halteres_position = list(self.porta_halteres.values()).index(peso)\n",
    "        key_halteres = list(self.porta_halteres.keys())[halteres_position]\n",
    "        self.porta_halteres[key_halteres] = 0\n",
    "        return peso\n",
    "    \n",
    "    def devolver_halteres(self, position, peso):\n",
    "        self.porta_halteres[position] = peso\n",
    "        \n",
    "    def calcular_caos(self):\n",
    "        num_caos = [i for i, j in self.porta_halteres.items() if i != j]\n",
    "        return len(num_caos) / len(self.porta_halteres)\n",
    "        \n",
    "class usuario:\n",
    "    def __init__(self, tipo, academia):\n",
    "        self.tipo = tipo # tipo 1 é organizado | tipo 2 é bagunceiro\n",
    "        self.academia = academia\n",
    "        self.peso = 0\n",
    "    \n",
    "    def iniciar_treino(self):\n",
    "        lista_pesos = self.academia.lista_halteres()\n",
    "        self.peso = random.choice(lista_pesos)\n",
    "        self.academia.pegar_halteres(self.peso)\n",
    "    \n",
    "    def finalizar_treino(self):\n",
    "        espacos = self.academia.lista_espacos()\n",
    "        \n",
    "        if self.tipo == 1:\n",
    "            if self.peso in espacos:\n",
    "                self.academia.devolver_halteres(self.peso, self.peso)\n",
    "                \n",
    "            else:\n",
    "                position = random.choice(espacos)\n",
    "                self.academia.devolver_halteres(position, self.peso)\n",
    "                \n",
    "        if self.tipo == 2:\n",
    "                position = random.choice(espacos)\n",
    "                self.academia.devolver_halteres(position, self.peso)\n",
    "        \n",
    "        self.peso = 0\n",
    "        \n",
    "\n",
    "academia = academia()\n",
    "\n",
    "usuarios = [usuario(1, academia) for i in range(10)]\n",
    "usuarios += [usuario(2, academia) for i in range(1)]\n",
    "\n",
    "random.shuffle(usuarios)\n",
    "\n",
    "list_chaos = []\n",
    "\n",
    "for k in range(50):\n",
    "    academia.reiniciar_dia()\n",
    "    for i in range(10):\n",
    "        random.shuffle(usuarios)\n",
    "\n",
    "        for user in usuarios:\n",
    "            user.iniciar_treino()\n",
    "\n",
    "        for user in usuarios:\n",
    "            user.finalizar_treino()\n",
    "\n",
    "    list_chaos += [academia.calcular_caos()]\n",
    "            \n",
    "import seaborn as sns\n",
    "sns.displot(list_chaos)\n",
    "            \n",
    "list_chaos\n"
   ]
  },
  {
   "cell_type": "code",
   "execution_count": null,
   "id": "3641f745-af2c-4210-ab87-a032107b0e92",
   "metadata": {},
   "outputs": [],
   "source": []
  }
 ],
 "metadata": {
  "kernelspec": {
   "display_name": "Python 3 (ipykernel)",
   "language": "python",
   "name": "python3"
  },
  "language_info": {
   "codemirror_mode": {
    "name": "ipython",
    "version": 3
   },
   "file_extension": ".py",
   "mimetype": "text/x-python",
   "name": "python",
   "nbconvert_exporter": "python",
   "pygments_lexer": "ipython3",
   "version": "3.9.12"
  }
 },
 "nbformat": 4,
 "nbformat_minor": 5
}
